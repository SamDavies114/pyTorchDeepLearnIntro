{
  "nbformat": 4,
  "nbformat_minor": 0,
  "metadata": {
    "colab": {
      "provenance": [],
      "include_colab_link": true
    },
    "kernelspec": {
      "name": "python3",
      "display_name": "Python 3"
    },
    "language_info": {
      "name": "python"
    }
  },
  "cells": [
    {
      "cell_type": "markdown",
      "metadata": {
        "id": "view-in-github",
        "colab_type": "text"
      },
      "source": [
        "<a href=\"https://colab.research.google.com/github/SamDavies114/pyTorchDeepLearnIntro/blob/main/Copy_of_NLP_Excercises.ipynb\" target=\"_parent\"><img src=\"https://colab.research.google.com/assets/colab-badge.svg\" alt=\"Open In Colab\"/></a>"
      ]
    },
    {
      "cell_type": "markdown",
      "source": [
        "# Tutorial: Text data processing\n",
        "\n",
        "**Note:** Python 3.x is required to run this code.\n",
        "\n",
        "## Objective\n",
        "\n",
        "The objective of the tutorial is to experiment with different models and techniques for Natural Language Processing and check the\n",
        "difference by visualising the dataset. Try to explore how different tokenization techniques have an impact on the document representation.\n",
        "You can also check if removing punctuation has a significant impact on how the data looks like.\n",
        "\n",
        "\n",
        "## Libraries\n",
        "\n",
        "- pandas: ```pip install pandas```\n",
        "- sklearn: ```pip install sklearn```\n",
        "- seaborn: ```pip install seaborn```\n",
        "- umap: ```pip install umap-learn```\n",
        "- spacy: ```pip install spacy``` and ```python -m spacy download en_core_web_sm```\n",
        "- nltk: ```pip install nltk```\n",
        "- sentence-transformers: ```pip install sentence-transformers```\n",
        "\n",
        "## Dataset\n",
        "\n",
        "The datasets can be downloaded from https://imperialcollegelondon.box.com/s/adnhlskleb1iiwvzal7gq68vqx8ijr0l"
      ],
      "metadata": {
        "id": "0pEjGWvpWP9t"
      }
    },
    {
      "cell_type": "markdown",
      "source": [
        "# Set things up"
      ],
      "metadata": {
        "id": "50mgDAmaoB-N"
      }
    },
    {
      "cell_type": "code",
      "source": [
        "# setup the data environment and download the datasets\n",
        "!mkdir -p data\n",
        "!wget https://imperialcollegelondon.box.com/shared/static/0z2tcswah3wbqxyfle9ihw2hnoio8d3d.csv -O data/tweets.csv\n",
        "!wget https://imperialcollegelondon.box.com/shared/static/dikdtlvl9wd8hdtko8th0eul7vwx4hf0.csv -O data/email_spam.csv"
      ],
      "metadata": {
        "id": "fkXz7V4toAs6"
      },
      "execution_count": null,
      "outputs": []
    },
    {
      "cell_type": "code",
      "source": [
        "!pip install umap-learn\n",
        "!pip install sentence-transformers"
      ],
      "metadata": {
        "id": "ZWlrVY8jMlL7",
        "collapsed": true
      },
      "execution_count": null,
      "outputs": []
    },
    {
      "cell_type": "markdown",
      "source": [
        "# Simple Text"
      ],
      "metadata": {
        "id": "5BJW_8LsMYdm"
      }
    },
    {
      "cell_type": "code",
      "source": [
        "import matplotlib.pyplot as plt\n",
        "import numpy as np\n",
        "import pandas as pd\n",
        "import seaborn as sns\n",
        "import spacy\n",
        "from nltk.stem.snowball import SnowballStemmer\n",
        "from umap import UMAP\n",
        "from sklearn.cluster import KMeans\n",
        "from sentence_transformers import SentenceTransformer"
      ],
      "metadata": {
        "id": "2HcAOZhUMhJs"
      },
      "execution_count": null,
      "outputs": []
    },
    {
      "cell_type": "code",
      "source": [
        "# spacy loading the english small model\n",
        "nlp = spacy.load(\"en_core_web_sm\")\n",
        "# loading english snowball stemmer\n",
        "stemmer = SnowballStemmer(\"english\")\n",
        "\n",
        "# loading a dataset\n",
        "df = pd.read_csv(\"data/tweets.csv\")\n",
        "# keep the first 100 samples for quick processing\n",
        "# you can adjust the number of samples to see what happens when you have more samples\n",
        "df = df.head(500)\n",
        "df.head(5)"
      ],
      "metadata": {
        "id": "me2ffQqAqqvD"
      },
      "execution_count": null,
      "outputs": []
    },
    {
      "cell_type": "code",
      "source": [
        "# get one document to experiment on\n",
        "document = df[\"content\"].values[2].strip()\n",
        "\n",
        "# parse and tokenize the document\n",
        "doc = nlp(document)\n",
        "print(\"Text:\", document)\n",
        "for token in doc:\n",
        "  print(\"\\t\", token.text, \" -- lemma:\", token.lemma_, \" -- stem:\", stemmer.stem(token.text))"
      ],
      "metadata": {
        "id": "qP91_Dsyq_XK"
      },
      "execution_count": null,
      "outputs": []
    },
    {
      "cell_type": "markdown",
      "source": [
        "## Exercise 1\n",
        "\n",
        "1. What is the difference between the lemma and the stem?\n",
        "\n",
        "2. Can you find a word where the lemma is different from the stem?\n",
        "\n",
        "3. Is the lemma and the stem always an English word?"
      ],
      "metadata": {
        "id": "CcdcsyvlzLTM"
      }
    },
    {
      "cell_type": "markdown",
      "source": [
        "## Exercise 2\n",
        "\n",
        "Calculate the average vector representation of a text document.\n",
        "\n",
        "**Hint**: You must calculate the vector representation of the text first"
      ],
      "metadata": {
        "id": "-yHLp7t71XLj"
      }
    },
    {
      "cell_type": "code",
      "source": [
        "def average_vector(nlp, text):\n",
        "  # todo; calculate the average vector reporesentation of a document\n",
        "  return None"
      ],
      "metadata": {
        "id": "j-1O5_ilyv_A"
      },
      "execution_count": null,
      "outputs": []
    },
    {
      "cell_type": "code",
      "source": [
        "# compute the average vector for the document\n",
        "average_vector(nlp, document)"
      ],
      "metadata": {
        "id": "Nn5u0TQUyprx"
      },
      "execution_count": null,
      "outputs": []
    },
    {
      "cell_type": "code",
      "source": [
        "# encode all documents\n",
        "all_documents = np.array([average_vector(nlp, doc.strip()) for doc in df[\"content\"].values])\n",
        "print(\"All documents shape:\", all_documents.shape)\n",
        "\n",
        "x_t = UMAP().fit_transform(all_documents)\n",
        "print(\"Projection shape:\", x_t.shape)"
      ],
      "metadata": {
        "id": "2qd0CvYyvJ7R"
      },
      "execution_count": null,
      "outputs": []
    },
    {
      "cell_type": "markdown",
      "source": [
        "## Exercise 3\n",
        "\n",
        "Plot or display as text all the documents grouped by different categories, such as language, source or like count.\n",
        "\n",
        "**Example**:\n",
        "\n",
        "> sns.scatterplot(data=df, x=x_t[:, 0], y=x_t[:, 1], hue=\"lang\", palette=\"tab10\")\n",
        "\n"
      ],
      "metadata": {
        "id": "LyHdo7rB22N1"
      }
    },
    {
      "cell_type": "markdown",
      "source": [
        "## Exercise 4\n",
        "\n",
        "Use a sentence encoder to encode all documents and plot or display the results as text."
      ],
      "metadata": {
        "id": "XlUOs71s3qYS"
      }
    },
    {
      "cell_type": "code",
      "source": [
        "model = SentenceTransformer('sentence-transformers/all-distilroberta-v1')"
      ],
      "metadata": {
        "collapsed": true,
        "id": "0p_a7ZOV4HC-"
      },
      "execution_count": null,
      "outputs": []
    },
    {
      "cell_type": "code",
      "source": [
        "def _encode(text: str):\n",
        "  return None"
      ],
      "metadata": {
        "id": "0r-tWQZv4WdS"
      },
      "execution_count": null,
      "outputs": []
    },
    {
      "cell_type": "code",
      "source": [
        "# encode all documents\n",
        "all_documents = np.array([_encode(doc.strip()) for doc in df[\"content\"].values])\n",
        "print(\"All documents shape:\", all_documents.shape)\n",
        "\n",
        "x_t = UMAP().fit_transform(all_documents)\n",
        "print(\"Projection shape:\", x_t.shape)"
      ],
      "metadata": {
        "colab": {
          "base_uri": "https://localhost:8080/"
        },
        "id": "z0_zT9v54cZk",
        "outputId": "fcde3c00-c610-42e0-889c-fd2e21584a8e"
      },
      "execution_count": null,
      "outputs": [
        {
          "output_type": "stream",
          "name": "stdout",
          "text": [
            "All documents shape: (500, 768)\n",
            "Projection shape: (500, 2)\n"
          ]
        }
      ]
    },
    {
      "cell_type": "code",
      "source": [
        "sns.scatterplot(data=df, x=x_t[:, 0], y=x_t[:, 1], hue=\"like_count\", palette=\"tab10\")"
      ],
      "metadata": {
        "colab": {
          "base_uri": "https://localhost:8080/",
          "height": 448
        },
        "id": "TXlpiOvV4-uD",
        "outputId": "185ce3b8-7c6f-4671-9580-fad479582f43"
      },
      "execution_count": null,
      "outputs": [
        {
          "output_type": "execute_result",
          "data": {
            "text/plain": [
              "<Axes: >"
            ]
          },
          "metadata": {},
          "execution_count": 19
        },
        {
          "output_type": "display_data",
          "data": {
            "text/plain": [
              "<Figure size 640x480 with 1 Axes>"
            ],
            "image/png": "[encoded data removed]"
          },
          "metadata": {}
        }
      ]
    },
    {
      "cell_type": "markdown",
      "source": [
        "# Advanced Text\n",
        "\n",
        "## Exercise 5\n",
        "\n",
        "Load the *data/email_spam.csv* dataset and cluster the spam text using KMeans. Compare the clusters with the spam label to identify the best parameters to solve the problem."
      ],
      "metadata": {
        "id": "0uKzod835O5t"
      }
    },
    {
      "cell_type": "code",
      "source": [
        "def plot_model_clusters(x, y):\n",
        "  sns.scatterplot(x=x[:, 0], y=x[:, 1], hue=y, palette=\"tab10\")"
      ],
      "metadata": {
        "id": "Tn4ITmvr5vd0"
      },
      "execution_count": null,
      "outputs": []
    },
    {
      "cell_type": "code",
      "source": [],
      "metadata": {
        "id": "e_3ram1p66jE"
      },
      "execution_count": null,
      "outputs": []
    },
    {
      "cell_type": "code",
      "source": [
        "k_model = None\n",
        "plot_model_clusters(x=x_t, y=k_model.predict(all_documents))"
      ],
      "metadata": {
        "colab": {
          "base_uri": "https://localhost:8080/",
          "height": 430
        },
        "id": "uG7EiL4554Ct",
        "outputId": "fce6e6b5-18b2-4504-9361-fd2302f5acda"
      },
      "execution_count": null,
      "outputs": [
        {
          "output_type": "display_data",
          "data": {
            "text/plain": [
              "<Figure size 640x480 with 1 Axes>"
            ],
            "image/png": "[encoded data removed]"
          },
          "metadata": {}
        }
      ]
    },
    {
      "cell_type": "markdown",
      "source": [
        "## Exercise 6\n",
        "\n",
        "**[Extra work]** Build a spam classifier and test its performance. See: https://scikit-learn.org/stable/modules/svm.html#classification"
      ],
      "metadata": {
        "id": "UitpivgQIbyM"
      }
    }
  ]
}